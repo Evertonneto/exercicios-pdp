{
  "nbformat": 4,
  "nbformat_minor": 0,
  "metadata": {
    "colab": {
      "provenance": [],
      "authorship_tag": "ABX9TyMhpqDF5VhUJSsA0kGs6wZ1",
      "include_colab_link": true
    },
    "kernelspec": {
      "name": "python3",
      "display_name": "Python 3"
    },
    "language_info": {
      "name": "python"
    }
  },
  "cells": [
    {
      "cell_type": "markdown",
      "metadata": {
        "id": "view-in-github",
        "colab_type": "text"
      },
      "source": [
        "<a href=\"https://colab.research.google.com/github/Evertonneto/exercicios-pdp/blob/main/exercicios.ipynb\" target=\"_parent\"><img src=\"https://colab.research.google.com/assets/colab-badge.svg\" alt=\"Open In Colab\"/></a>"
      ]
    },
    {
      "cell_type": "markdown",
      "source": [
        "progama 1 = calcular média de dois valores."
      ],
      "metadata": {
        "id": "Uf7lC7oFNIO9"
      }
    },
    {
      "cell_type": "code",
      "execution_count": null,
      "metadata": {
        "colab": {
          "base_uri": "https://localhost:8080/"
        },
        "id": "zC90ep0wMlK5",
        "outputId": "0968c902-b5c1-44b8-b1d9-19d8d3a02e4c"
      },
      "outputs": [
        {
          "output_type": "stream",
          "name": "stdout",
          "text": [
            "Informe a nota 1:10\n",
            "Informe a nota 2:8\n",
            "Média final:\n",
            "9.0\n"
          ]
        }
      ],
      "source": [
        "nota1 = float(input(\"Informe a nota 1:\"))\n",
        "nota2 = float(input(\"Informe a nota 2:\"))\n",
        "\n",
        "media = (nota1+nota2)/2\n",
        "print(\"Média final:\")\n",
        "print(media)"
      ]
    },
    {
      "cell_type": "markdown",
      "source": [
        "programa 2 = primeiro programa com function"
      ],
      "metadata": {
        "id": "nMSLYF7ANDK0"
      }
    },
    {
      "cell_type": "code",
      "source": [
        "n1 = float(input(\"Digite a primeira nota\"))\n",
        "n2 = float(input(\"Digite a Segundo nota\"))\n",
        "\n",
        "def calculoMedia(nota1,nota2):\n",
        "  media = (nota1+nota2)/2\n",
        "  print(\"Média final:\")\n",
        "  print(media)\n",
        "\n",
        "calculoMedia(n1,n2)\n"
      ],
      "metadata": {
        "colab": {
          "base_uri": "https://localhost:8080/"
        },
        "id": "kSCs_PiJOf3H",
        "outputId": "267c54a4-b8ff-4576-b8d6-f8d91fad62f9"
      },
      "execution_count": null,
      "outputs": [
        {
          "output_type": "stream",
          "name": "stdout",
          "text": [
            "Digite a primeira nota10\n",
            "Digite a Segundo nota9\n",
            "Média final:\n",
            "9.5\n"
          ]
        }
      ]
    },
    {
      "cell_type": "markdown",
      "source": [
        "programa 3 = progama de solicitação de preço e desconto"
      ],
      "metadata": {
        "id": "pEfuK0sZR_VY"
      }
    },
    {
      "cell_type": "code",
      "source": [
        "def desconto(preco,descontoDoProduto):\n",
        "    desconto = descontoDoProduto/100\n",
        "    precoFinal = preco - (preco*desconto)\n",
        "    print(precoFinal)\n",
        "\n",
        "precoProduto = float(input(\"Digite o preço do produto:\"))\n",
        "descontoProduto = float(input(\"Digite o desconto:\"))\n",
        "\n",
        "desconto(precoProduto,descontoProduto)"
      ],
      "metadata": {
        "colab": {
          "base_uri": "https://localhost:8080/"
        },
        "id": "r9KWhPbJR-mv",
        "outputId": "54559369-de61-4cbc-8a7b-fa9057e90cbb"
      },
      "execution_count": null,
      "outputs": [
        {
          "output_type": "stream",
          "name": "stdout",
          "text": [
            "Digite o preço do produto:100\n",
            "Digite o desconto:25\n",
            "75.0\n"
          ]
        }
      ]
    },
    {
      "cell_type": "markdown",
      "source": [
        "progama 4 = tempo de vida de um fumante\n"
      ],
      "metadata": {
        "id": "z3Ry7CElVnff"
      }
    },
    {
      "cell_type": "code",
      "source": [
        "import math\n",
        "\n",
        "cigarrosPorDia = int(input(\"Digite o número de cigarras por dia:\"))\n",
        "anos = int(input(\"Digite quantos anos de fumante:\"))\n",
        "\n",
        "def diasPerdidos(cigarrosPorDia,anos):\n",
        "    # cigarrosTotal = cigarrosPorDia*365*anos\n",
        "    # minutosPerdidos = cigarrosPorDia*365*anos*10\n",
        "    # horasPerdidas = (cigarrosPorDia*365*anos*10)/60\n",
        "    diasPerdidos = ((cigarrosPorDia*365*anos*10)/60)/24\n",
        "\n",
        "    res = math.floor(diasPerdidos)\n",
        "\n",
        "    print(\"Dias de vida perdidos:\", res )\n",
        "\n",
        "diasPerdidos(cigarrosPorDia,anos)"
      ],
      "metadata": {
        "colab": {
          "base_uri": "https://localhost:8080/"
        },
        "id": "F-OykAyoVsGp",
        "outputId": "1dc9d3c0-bbc6-426e-d1d5-34e2889a53e2"
      },
      "execution_count": null,
      "outputs": [
        {
          "output_type": "stream",
          "name": "stdout",
          "text": [
            "Digite o número de cigarras por dia:5\n",
            "Digite quantos anos de fumante:10\n",
            "Dias de vida perdidos: 126\n"
          ]
        }
      ]
    },
    {
      "cell_type": "markdown",
      "source": [
        "progama 5 - pergunte o salário do funcionário e calcule o valor do aumento"
      ],
      "metadata": {
        "id": "GjZcjXQJtalZ"
      }
    },
    {
      "cell_type": "code",
      "source": [
        "salarioFuncionario = float(input(\"Digite o salário do funcionário:\"))\n",
        "if salarioFuncionario >= 1250:\n",
        "  print(\"O salário com aumento é igual a \", salarioFuncionario*1.1)\n",
        "else:\n",
        "  print(\"O salário com aumento é igual a \", salarioFuncionario*1.15)"
      ],
      "metadata": {
        "colab": {
          "base_uri": "https://localhost:8080/"
        },
        "id": "iLXI0myUtge6",
        "outputId": "66501d16-4b2b-4da2-baba-06ccffd4e4f4"
      },
      "execution_count": null,
      "outputs": [
        {
          "output_type": "stream",
          "name": "stdout",
          "text": [
            "Digite o salário do funcionário:1000\n",
            "O salário com aumento é igual a  1150.0\n"
          ]
        }
      ]
    },
    {
      "cell_type": "markdown",
      "source": [
        "programa 6 - custo de consumo, de acordo com tipo(R,I,C)"
      ],
      "metadata": {
        "id": "kO5gUDH_xtYh"
      }
    },
    {
      "cell_type": "code",
      "source": [
        "consumo = int(input(\"Consumo em kWh:\"))\n",
        "tipo = input(\"Tipo de instalação(R,I,C):\")\n",
        "\n",
        "if tipo == \"R\":\n",
        "  if consumo <= 500:\n",
        "    preco = 0.4\n",
        "  else:\n",
        "    preco = 0.65\n",
        "elif tipo == \"I\":\n",
        "  if consumo <= 5000:\n",
        "    preco = 0.55\n",
        "  else:\n",
        "    preco = 0.6\n",
        "elif tipo == \"C\":\n",
        "  if consumo <= 1000:\n",
        "    preco = 0.55\n",
        "  else:\n",
        "    preco = 0.6\n",
        "else:\n",
        "  preco = 0\n",
        "  print(\"Erro!Tipo de instalação desconhecido!\")\n",
        "\n",
        "custo = consumo * preco\n",
        "print(f\"valor a pagar = R$ {custo:7.2f}\")"
      ],
      "metadata": {
        "colab": {
          "base_uri": "https://localhost:8080/"
        },
        "id": "WprGvZrKx5lN",
        "outputId": "5e1807b9-c443-486c-f42f-6acc65aafe71"
      },
      "execution_count": null,
      "outputs": [
        {
          "output_type": "stream",
          "name": "stdout",
          "text": [
            "Consumo em kWh:200\n",
            "Tipo de instalação(R,I,C):J\n",
            "Erro!Tipo de instalação desconhecido!\n",
            "valor a pagar = R$    0.00\n"
          ]
        }
      ]
    },
    {
      "cell_type": "markdown",
      "source": [
        "programa 7 - comparar lista e imprima:\n",
        "\n",
        "• os valores comuns às duas listas\n",
        "\n",
        "• os valores que só existem na primeira\n",
        "\n",
        "• os valores que existem apenas na segunda\n",
        "\n",
        "• uma lista com os elementos não repetidos das duas listas.\n",
        "\n",
        "• a primeira lista sem os elementos repetidos na segunda"
      ],
      "metadata": {
        "id": "Tj0jXamMzm38"
      }
    },
    {
      "cell_type": "code",
      "source": [
        "lista_1 = [1,3,5,8]\n",
        "lista_2 = {4,5,8,10}\n",
        "\n",
        "conjunto_1 = set(lista_1)\n",
        "conjunto_2 = set(lista_2)\n",
        "\n",
        "print(\"os valores comuns às duas listas:\", conjunto_1 & conjunto_2)\n",
        "print(\"os valores que só existem na primeira\", conjunto_1 - conjunto_2)\n",
        "print(\"os valores que existem apenas na segunda\", conjunto_2 - conjunto_1)\n",
        "print(\"uma lista com os elementos não repetidos das duas listas: \", conjunto_1 ^ conjunto_2)"
      ],
      "metadata": {
        "colab": {
          "base_uri": "https://localhost:8080/"
        },
        "id": "_1SpGuuDzz9S",
        "outputId": "b16a6ded-e3c5-43ad-a59e-871fc2d0a938"
      },
      "execution_count": null,
      "outputs": [
        {
          "output_type": "stream",
          "name": "stdout",
          "text": [
            "os valores comuns às duas listas: {8, 5}\n",
            "os valores que só existem na primeira {1, 3}\n",
            "os valores que existem apenas na segunda {10, 4}\n",
            "uma lista com os elementos não repetidos das duas listas:  {1, 3, 4, 10}\n"
          ]
        }
      ]
    },
    {
      "cell_type": "markdown",
      "source": [
        "programa 8 - Escreva um programa para controlar uma pequena máquina registradora."
      ],
      "metadata": {
        "id": "T8sD9krY1Jmv"
      }
    },
    {
      "cell_type": "code",
      "source": [
        "total = 0;\n",
        "codAndPrices = {\n",
        "    1:0.5,\n",
        "    2:1.0,\n",
        "    3:4.0,\n",
        "    5:7.0,\n",
        "    9:8.0\n",
        "}\n",
        "while True:\n",
        "  produtoCod = int(input(\"Digite o código do produto:\"))\n",
        "  preco = 0\n",
        "  if produtoCod == 0:\n",
        "    break\n",
        "\n",
        "  if produtoCod in codAndPrices:\n",
        "    preco = codAndPrices[produtoCod]\n",
        "\n",
        "  if preco != 0:\n",
        "     quantidade = int(input(\"Digite a quantidade:\"))\n",
        "     total = total + (preco * quantidade)\n",
        "\n",
        "print(f\"Total a pagar é de R${total:8.2f}\")\n",
        "\n",
        "\n",
        "\n",
        "\n"
      ],
      "metadata": {
        "colab": {
          "base_uri": "https://localhost:8080/"
        },
        "id": "4DOuN-U81NL5",
        "outputId": "6df04653-7fdb-4758-cf37-db2e042b6bab"
      },
      "execution_count": 10,
      "outputs": [
        {
          "output_type": "stream",
          "name": "stdout",
          "text": [
            "Digite o código do produto:9\n",
            "Digite a quantidade:5\n",
            "Digite o código do produto:5\n",
            "Digite a quantidade:1\n",
            "Digite o código do produto:2\n",
            "Digite a quantidade:3\n",
            "Digite o código do produto:0\n",
            "Total a pagar é de R$   50.00\n"
          ]
        }
      ]
    },
    {
      "cell_type": "code",
      "source": [
        "total = 0\n",
        "while True:\n",
        "\n",
        "  preco = 0\n",
        "  produtoCod = int(input(\"Digite o codígo do produto:\"))\n",
        "  if produtoCod == 0:\n",
        "    break\n",
        "  elif produtoCod == 1:\n",
        "    preco = 0.5\n",
        "  elif produtoCod == 2:\n",
        "    preco = 1.00\n",
        "  elif produtoCod == 3:\n",
        "    preco = 4.00\n",
        "  elif produtoCod == 5:\n",
        "    preco = 7.00\n",
        "  elif produtoCod == 9:\n",
        "    preco = 8.00\n",
        "  else:\n",
        "    print(\"Código inválido!\")\n",
        "  quantidade = int(input(\"Digite a quantidade do produto:\"))\n",
        "  total += preco*quantidade\n",
        "\n",
        "print(\"Valor a ser pago R$ \", total)\n",
        ""
      ],
      "metadata": {
        "colab": {
          "base_uri": "https://localhost:8080/"
        },
        "id": "rABNK_jmX2fC",
        "outputId": "4a791a6f-3951-436e-d499-c0e8aa5b6a75"
      },
      "execution_count": 7,
      "outputs": [
        {
          "output_type": "stream",
          "name": "stdout",
          "text": [
            "Digite o codígo do produto:9\n",
            "Digite a quantidade do produto:5\n",
            "Digite o codígo do produto:3\n",
            "Digite a quantidade do produto:1\n",
            "Digite o codígo do produto:2\n",
            "Digite a quantidade do produto:1\n",
            "Digite o codígo do produto:0\n",
            "Valor a ser pago R$  45.0\n"
          ]
        }
      ]
    }
  ]
}