{
  "nbformat": 4,
  "nbformat_minor": 0,
  "metadata": {
    "colab": {
      "provenance": [],
      "authorship_tag": "ABX9TyO0Kn9GKD40et/iBB259tJD",
      "include_colab_link": true
    },
    "kernelspec": {
      "name": "python3",
      "display_name": "Python 3"
    },
    "language_info": {
      "name": "python"
    }
  },
  "cells": [
    {
      "cell_type": "markdown",
      "metadata": {
        "id": "view-in-github",
        "colab_type": "text"
      },
      "source": [
        "<a href=\"https://colab.research.google.com/github/Evertonneto/exercicios-pdp/blob/main/aula14_09.ipynb\" target=\"_parent\"><img src=\"https://colab.research.google.com/assets/colab-badge.svg\" alt=\"Open In Colab\"/></a>"
      ]
    },
    {
      "cell_type": "markdown",
      "source": [
        "Programa 1 - soma de valores de duas posições especifícadas pelo usuário."
      ],
      "metadata": {
        "id": "EvcYeUhWjfa2"
      }
    },
    {
      "cell_type": "code",
      "execution_count": null,
      "metadata": {
        "colab": {
          "base_uri": "https://localhost:8080/"
        },
        "id": "s44rp18wcXRT",
        "outputId": "b32b299a-ea28-49aa-8309-3f688084228f"
      },
      "outputs": [
        {
          "output_type": "stream",
          "name": "stdout",
          "text": [
            "Digite o valor da posição 0:1\n",
            "Digite o valor da posição 1:2\n",
            "Digite o valor da posição 2:3\n",
            "Digite o valor da posição 3:4\n",
            "Digite o valor da posição 4:5\n",
            "Digite o valor da posição 5:6\n",
            "Digite o valor da posição 6:7\n",
            "Digite o valor da posição 7:8\n",
            "Digite o valor de X:1\n",
            "Digite o valor de Y:2\n",
            "A soma dos valores nas posições X e Y é 5\n"
          ]
        },
        {
          "output_type": "execute_result",
          "data": {
            "text/plain": [
              "6"
            ]
          },
          "metadata": {},
          "execution_count": 11
        }
      ],
      "source": [
        "def main():\n",
        "  vetor = [0] * 8\n",
        "\n",
        "  for i in range(8):\n",
        "    vetor[i] = int(input(\"Digite o valor da posição {}:\".format(i)))\n",
        "\n",
        "  x = int(input(\"Digite o valor de X:\"))\n",
        "  y = int(input(\"Digite o valor de Y:\"))\n",
        "\n",
        "  soma = vetor[x] + vetor[y]\n",
        "\n",
        "  print(\"A soma dos valores nas posições X e Y é {}\".format(soma))\n",
        "\n",
        "if __name__ == \"__main__\":\n",
        "  main()\n",
        "\n",
        "\n"
      ]
    },
    {
      "cell_type": "markdown",
      "source": [
        "programa 2 - programa para receber valores em um array de 10 posições e encontrar maior e menor valor, soma dos valores ,média do valores e quantidade de valores maiores que 5."
      ],
      "metadata": {
        "id": "o6OaZKUojfkY"
      }
    },
    {
      "cell_type": "code",
      "source": [
        "vetor = [0] * 10\n",
        "maiorValor = 0\n",
        "menorValor = 0\n",
        "soma = 0\n",
        "qtdMaiorQueCinco = 0\n",
        "\n",
        "for i in range(10):\n",
        "  vetor[i] = int(input(\"Digite o valor na posição {}: \".format(i)))\n",
        "  if maiorValor == 0 and menorValor == 0:\n",
        "    maiorValor = vetor[i]\n",
        "    menorValor = vetor[i]\n",
        "  if vetor[i] > maiorValor:\n",
        "     maiorValor = vetor[i]\n",
        "  if vetor[i] < menorValor:\n",
        "    menorValor = vetor[i]\n",
        "  if vetor[i] > 5:\n",
        "    qtdMaiorQueCinco += 1\n",
        "\n",
        "  soma += vetor[i]\n",
        "\n",
        "  media = soma/3\n",
        "\n",
        "\n",
        "\n",
        "\n",
        "print(\"Maior Valor:\", maiorValor)\n",
        "print(\"Menor Valor:\", menorValor)\n",
        "print(\"Soma dos valores:\" , soma)\n",
        "print(\"Média dos valores:\" , media)\n",
        "print(\"Quantidade de valores maior que 5:\" , qtdMaiorQueCinco)"
      ],
      "metadata": {
        "colab": {
          "base_uri": "https://localhost:8080/"
        },
        "id": "CM0Ytvy0jn0g",
        "outputId": "2c8ac21c-c326-4051-dedd-70147e12d128"
      },
      "execution_count": null,
      "outputs": [
        {
          "output_type": "stream",
          "name": "stdout",
          "text": [
            "Digite o valor na posição 0: 9\n",
            "Digite o valor na posição 1: 10\n",
            "Digite o valor na posição 2: 11\n",
            "Maior Valor: 11\n",
            "Menor Valor: 9\n",
            "Soma dos valores: 30\n",
            "Média dos valores: 10.0\n",
            "Quantidade de valores maior que 5: 3\n"
          ]
        }
      ]
    },
    {
      "cell_type": "markdown",
      "source": [
        "Programa 3 - Faça um programa em Python que receba do usuario dois vetores, ´ A e B, com 10 numeros inteiros cada. Crie um novo vetor denominado C calculando C = A - B. Mostre na tela os dados\n",
        "do vetor C.\n"
      ],
      "metadata": {
        "id": "PwgnpQjWk_Mu"
      }
    },
    {
      "cell_type": "code",
      "source": [
        "def main():\n",
        "  vetorB = [0]*10\n",
        "  vetorA = [0]*10\n",
        "  vetorC = [0]*10\n",
        "\n",
        "  for i in range(10):\n",
        "    vetorA[i] = int(input(\"Digite o valor na posição {} do vetorA\".format(i)))\n",
        "    vetorB[i] = int(input(\"Digite o valor na posição {} do vetorB\".format(i)))\n",
        "\n",
        "    vetorC[i] = vetorA[i] - vetorB[i]\n",
        "\n",
        "    print(\"Vetor C - posição {}:\".format(i), vetorC[i])\n",
        "\n",
        "  print(vetorC)\n",
        "\n",
        "\n",
        "\n",
        "\n",
        "\n",
        "\n",
        "if __name__ == \"__main__\":\n",
        "  main()\n"
      ],
      "metadata": {
        "colab": {
          "base_uri": "https://localhost:8080/"
        },
        "id": "6f4lXeHQlK-d",
        "outputId": "2532356b-59b3-4bc9-91a4-5cc68e05fcd2"
      },
      "execution_count": null,
      "outputs": [
        {
          "output_type": "stream",
          "name": "stdout",
          "text": [
            "Digite o valor na posição 0 do vetorA10\n",
            "Digite o valor na posição 0 do vetorB5\n",
            "Vetor C - posição 0: 5\n",
            "Digite o valor na posição 1 do vetorA25\n",
            "Digite o valor na posição 1 do vetorB3\n",
            "Vetor C - posição 1: 22\n",
            "Digite o valor na posição 2 do vetorA17\n",
            "Digite o valor na posição 2 do vetorB3\n",
            "Vetor C - posição 2: 14\n",
            "[5, 22, 14]\n"
          ]
        }
      ]
    },
    {
      "cell_type": "markdown",
      "source": [
        " Faça um programa em Python que receba 6 numeros inteiros e mostre:\n",
        "  \n",
        "  • Os numeros pares digitados;\n",
        "\n",
        "  • A soma dos numeros pares digitados;\n",
        "\n",
        "  • Os numeros   ımpares digitados;\n",
        "\n",
        "  • A quantidade de numeros  ımpares\n"
      ],
      "metadata": {
        "id": "sh3Fq-Kzm9ug"
      }
    },
    {
      "cell_type": "code",
      "source": [
        "\n",
        "  valores = [0]*6\n",
        "  valoresPares = []\n",
        "  valoresImpares = []\n",
        "  somaDosPares = 0\n",
        "  somaDosImpares = 0\n",
        "\n",
        "  for i in range(6):\n",
        "    valores[i] = int(input(\"Digite o valor a ser adicionado na posição {}:\".format(i)))\n",
        "    if valores[i]%2 == 0:\n",
        "      valoresPares.append(valores[i])\n",
        "      somaDosPares += valores[i]\n",
        "\n",
        "    else:\n",
        "      valoresImpares.append(valores[i])\n",
        "      somaDosImpares += valores[i]\n",
        "\n",
        "  print(\"Números pares digitados: \", valoresPares)\n",
        "  print(\"Números impares digitados: \", valoresImpares)\n",
        "  print(\"Soma dos números pares digitados: \", somaDosPares)\n",
        "  print(\"Soma dos números impares digitados: \", somaDosImpares)\n",
        "\n"
      ],
      "metadata": {
        "id": "vZK0pd5rm9Ml",
        "colab": {
          "base_uri": "https://localhost:8080/"
        },
        "outputId": "fb0ae83d-54c2-438c-9a29-36827e617a8c"
      },
      "execution_count": 10,
      "outputs": [
        {
          "output_type": "stream",
          "name": "stdout",
          "text": [
            "Digite o valor a ser adicionado na posição 0:1\n",
            "Digite o valor a ser adicionado na posição 1:2\n",
            "Digite o valor a ser adicionado na posição 2:3\n",
            "Digite o valor a ser adicionado na posição 3:4\n",
            "Digite o valor a ser adicionado na posição 4:5\n",
            "Digite o valor a ser adicionado na posição 5:6\n",
            "Números pares digitados:  [2, 4, 6]\n",
            "Números impares digitados:  [1, 3, 5]\n",
            "Soma dos números pares digitados:  12\n",
            "Soma dos números impares digitados:  9\n"
          ]
        }
      ]
    }
  ]
}