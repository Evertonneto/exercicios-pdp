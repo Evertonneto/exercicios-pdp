{
  "nbformat": 4,
  "nbformat_minor": 0,
  "metadata": {
    "colab": {
      "provenance": [],
      "authorship_tag": "ABX9TyOFpoGO0NXxQQmePuxga9mv",
      "include_colab_link": true
    },
    "kernelspec": {
      "name": "python3",
      "display_name": "Python 3"
    },
    "language_info": {
      "name": "python"
    }
  },
  "cells": [
    {
      "cell_type": "markdown",
      "metadata": {
        "id": "view-in-github",
        "colab_type": "text"
      },
      "source": [
        "<a href=\"https://colab.research.google.com/github/Evertonneto/exercicios-pdp/blob/main/matrizes.ipynb\" target=\"_parent\"><img src=\"https://colab.research.google.com/assets/colab-badge.svg\" alt=\"Open In Colab\"/></a>"
      ]
    },
    {
      "cell_type": "markdown",
      "source": [
        "Faça um programa em Python para gerar automaticamente numeros entre 0 e 99 de uma cartela de bingo. Sabendo que cada cartela devera conter 5 linhas de 5 numeros, gere estes dados de modo a nao ter numeros repetidos dentro das cartelas. O programa deve exibir na\n",
        "tela a cartela gerada.\n"
      ],
      "metadata": {
        "id": "X8OSRNip47Cg"
      }
    },
    {
      "cell_type": "code",
      "execution_count": 60,
      "metadata": {
        "colab": {
          "base_uri": "https://localhost:8080/"
        },
        "id": "_JCs4TF-2ttA",
        "outputId": "ed028f8c-46d3-49fb-e408-cf53cf5e5d96"
      },
      "outputs": [
        {
          "output_type": "stream",
          "name": "stdout",
          "text": [
            "Cartela de bingo:\n",
            "[5, 68, 35, 6, 89]\n",
            "[55, 9, 15, 32, 52]\n",
            "[16, 90, 71, 2, 46]\n",
            "[31, 51, 26, 95, 37]\n",
            "[18, 87, 1, 98, 44]\n"
          ]
        }
      ],
      "source": [
        "\n",
        "import random\n",
        "\n",
        "def gerar_cartela():\n",
        "    numeros = set()\n",
        "    cartela = [ [0 for i in range(5)] for j in range(5)]\n",
        "\n",
        "    for x in range (5):\n",
        "      for i in range(5):\n",
        "          numero = random.randint(0, 99)\n",
        "          while numero in numeros:\n",
        "              numero = random.randint(0, 99)\n",
        "          numeros.add(numero)\n",
        "          cartela[x][i] = numero\n",
        "\n",
        "    return cartela\n",
        "\n",
        "def main():\n",
        "    cartela = gerar_cartela()\n",
        "    print(\"Cartela de bingo:\")\n",
        "    for linha in cartela:\n",
        "        print(linha)\n",
        "\n",
        "\n",
        "if __name__ == \"__main__\":\n",
        "    main()\n"
      ]
    },
    {
      "cell_type": "markdown",
      "source": [
        "Faça um Programa em Python que Leia uma matriz 10 x 3 com as notas de 10 alunos em 3 provas. Em seguida, escreva o numero de alunos cuja pior nota foi na prova 1, o número de alunos cuja pior nota foi na prova 2, e o numero de alunos cuja pior nota foi na prova 3. Em caso de empate das piores notas de um aluno, o critério de desempate  e arbitrário, mas o aluno deve ser contabilizado apenas uma vez.\n"
      ],
      "metadata": {
        "id": "Njt5UdB1DaVq"
      }
    },
    {
      "cell_type": "code",
      "source": [
        "\n",
        "def main():\n",
        "    matriz = [ [0 for i in range(3)] for j in range(3)]\n",
        "    for linha in range(3):\n",
        "        for coluna in range(3):\n",
        "          matriz[linha][coluna] = int(input(\"Digite a nota {}:\".format(coluna+1)))\n",
        "\n",
        "    alunos_prova_1 = 0\n",
        "    alunos_prova_2 = 0\n",
        "    alunos_prova_3 = 0\n",
        "\n",
        "    for aluno in matriz:\n",
        "        pior_nota = aluno[0]\n",
        "\n",
        "        if pior_nota > aluno[1]:\n",
        "            pior_nota = aluno[1]\n",
        "        if pior_nota > aluno[2]:\n",
        "            pior_nota = aluno[2]\n",
        "\n",
        "        if pior_nota == aluno[0]:\n",
        "            alunos_prova_1 += 1\n",
        "        elif pior_nota == aluno[1]:\n",
        "            alunos_prova_2 += 1\n",
        "        else:\n",
        "            alunos_prova_3 += 1\n",
        "\n",
        "    print(\"O número de alunos cuja pior nota foi na prova 1 é:\", alunos_prova_1)\n",
        "    print(\"O número de alunos cuja pior nota foi na prova 2 é:\", alunos_prova_2)\n",
        "    print(\"O número de alunos cuja pior nota foi na prova 3 é:\", alunos_prova_3)\n",
        "\n",
        "\n",
        "if __name__ == \"__main__\":\n",
        "    main()\n"
      ],
      "metadata": {
        "colab": {
          "base_uri": "https://localhost:8080/"
        },
        "id": "bRpCUP_DDcMN",
        "outputId": "c95ae92d-40f7-4ade-f881-d9dae99a92af"
      },
      "execution_count": 89,
      "outputs": [
        {
          "output_type": "stream",
          "name": "stdout",
          "text": [
            "Digite a nota 1:5\n",
            "Digite a nota 2:4\n",
            "Digite a nota 3:3\n",
            "Digite a nota 1:5\n",
            "Digite a nota 2:4\n",
            "Digite a nota 3:3\n",
            "Digite a nota 1:5\n",
            "Digite a nota 2:4\n",
            "Digite a nota 3:3\n",
            "4\n",
            "4\n",
            "4\n",
            "O número de alunos cuja pior nota foi na prova 1 é: 0\n",
            "O número de alunos cuja pior nota foi na prova 2 é: 0\n",
            "O número de alunos cuja pior nota foi na prova 3 é: 3\n"
          ]
        }
      ]
    }
  ]
}