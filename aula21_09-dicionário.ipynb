{
  "nbformat": 4,
  "nbformat_minor": 0,
  "metadata": {
    "colab": {
      "provenance": [],
      "authorship_tag": "ABX9TyPTqxve6sJDeZ/AU5bjCaM+",
      "include_colab_link": true
    },
    "kernelspec": {
      "name": "python3",
      "display_name": "Python 3"
    },
    "language_info": {
      "name": "python"
    }
  },
  "cells": [
    {
      "cell_type": "markdown",
      "metadata": {
        "id": "view-in-github",
        "colab_type": "text"
      },
      "source": [
        "<a href=\"https://colab.research.google.com/github/Evertonneto/exercicios-pdp/blob/main/aula21_09-dicion%C3%A1rio.ipynb\" target=\"_parent\"><img src=\"https://colab.research.google.com/assets/colab-badge.svg\" alt=\"Open In Colab\"/></a>"
      ]
    },
    {
      "cell_type": "markdown",
      "source": [
        "# Crie um dicionário que é uma agenda e coloque nele os seguintes dados: chave (cpf),\n",
        "# nome, idade, telefone. O programa deve ler um número indeterminado de dados, criar a\n",
        "# agenda e imprimir todos os itens do dicionário no formato chave: nome, idade, fone."
      ],
      "metadata": {
        "id": "h1bZgaSfA1VP"
      }
    },
    {
      "cell_type": "code",
      "execution_count": 20,
      "metadata": {
        "colab": {
          "base_uri": "https://localhost:8080/"
        },
        "id": "ASEOQ2ped540",
        "outputId": "515722fc-0447-4c8a-8499-0f6dc936da37"
      },
      "outputs": [
        {
          "output_type": "stream",
          "name": "stdout",
          "text": [
            "Digite o CPF: 31231321\n",
            "Digite o nome: Everton\n",
            "Digite a idade: 21\n",
            "Digite o telefone: 213413123\n",
            "Deseja continuar? (s/n): n\n",
            "CPF\t\tNome\t\tIdade\t\tTelefone\n",
            "31231321 \t Everton \t 21 \t\t 213413123 \n"
          ]
        }
      ],
      "source": [
        "\n",
        "\n",
        "def main():\n",
        "    # Cria um dicionário vazio\n",
        "    agenda = {}\n",
        "\n",
        "    # Lê os dados da agenda\n",
        "    while True:\n",
        "        cpf = input(\"Digite o CPF: \")\n",
        "        nome = input(\"Digite o nome: \")\n",
        "        idade = input(\"Digite a idade: \")\n",
        "        telefone = input(\"Digite o telefone: \")\n",
        "\n",
        "        # Adiciona os dados ao dicionário\n",
        "        agenda[cpf] = {\n",
        "            \"nome\": nome,\n",
        "            \"idade\": idade,\n",
        "            \"telefone\": telefone,\n",
        "        }\n",
        "\n",
        "        # Pergunta se o usuário deseja continuar\n",
        "        continuar = input(\"Deseja continuar? (s/n): \")\n",
        "        if continuar != \"s\":\n",
        "            break\n",
        "\n",
        "    # Imprime os itens do dicionário\n",
        "    for cpf, contato in agenda.items():\n",
        "        print(\"CPF\\t\\tNome\\t\\tIdade\\t\\tTelefone\")\n",
        "        print(\"{} \\t {} \\t {} \\t\\t {} \".format(cpf, contato[\"nome\"],contato[\"idade\"],contato[\"telefone\"]))\n",
        "\n",
        "\n",
        "if __name__ == \"__main__\":\n",
        "    main()\n"
      ]
    },
    {
      "cell_type": "markdown",
      "source": [
        "# Construa um dicionário com nome, salariobruto, salario liquido,\n",
        "# para número indeterminado de pessoas, nele será calculado o\n",
        "# desconto de 8% do INSS e de 10% para IRPF. Preciso que o\n",
        "# programa seja escrito na Linguagem Python de forma Otimizada.."
      ],
      "metadata": {
        "id": "ALlxQ43IA5C8"
      }
    },
    {
      "cell_type": "code",
      "source": [
        "# Construa um dicionário com nome, salariobruto, salario liquido,\n",
        "# para número indeterminado de pessoas, nele será calculado o\n",
        "# desconto de 8% do INSS e de 10% para IRPF. Preciso que o\n",
        "# programa seja escrito na Linguagem Python de forma Otimizada..\n",
        "\n",
        "\n",
        "def main():\n",
        "    # Cria um dicionário vazio\n",
        "    folha_de_pagamento = {}\n",
        "\n",
        "    # Lê os dados da folha de pagamento\n",
        "    while True:\n",
        "        # Lê o nome e o salário bruto\n",
        "        nome = input(\"Digite o nome: \")\n",
        "        salario_bruto = float(input(\"Digite o salário bruto: \"))\n",
        "\n",
        "        # Calcula o desconto do INSS\n",
        "        desconto_inss = salario_bruto * 0.08\n",
        "\n",
        "        # Calcula o desconto do IRPF\n",
        "        desconto_irpf = 0\n",
        "        if salario_bruto > 1903.98:\n",
        "            desconto_irpf = salario_bruto * 0.10\n",
        "\n",
        "        # Calcula o salário líquido\n",
        "        salario_liquido = salario_bruto - desconto_inss - desconto_irpf\n",
        "\n",
        "        # Adiciona os dados ao dicionário\n",
        "        folha_de_pagamento[nome] = {\n",
        "            \"salario_bruto\": salario_bruto,\n",
        "            \"desconto_inss\": desconto_inss,\n",
        "            \"desconto_irpf\": desconto_irpf,\n",
        "            \"salario_liquido\": salario_liquido,\n",
        "        }\n",
        "\n",
        "        # Pergunta se o usuário deseja continuar\n",
        "        continuar = input(\"Deseja continuar? (s/n): \")\n",
        "        if continuar != \"s\":\n",
        "            break\n",
        "\n",
        "    # Imprime os itens do dicionário\n",
        "    for nome, dados in folha_de_pagamento.items():\n",
        "        print(\"Nome do Funcioário\\tSalário Bruto\\tDesconto-Inss\\tDesconto-IRPF\\tSalário Liquido2 \")\n",
        "        print(\"{} \\t\\t R${} \\t R${} \\t R${} \\t R${}\".format(nome,dados[\"salario_bruto\"],dados[\"desconto_inss\"],dados[\"desconto_irpf\"],dados[\"salario_liquido\"]))\n",
        "\n",
        "\n",
        "if __name__ == \"__main__\":\n",
        "    main()\n"
      ],
      "metadata": {
        "id": "1Zwb6I9YeypG",
        "colab": {
          "base_uri": "https://localhost:8080/"
        },
        "outputId": "6af6c079-809d-4070-fcad-804a7944f677"
      },
      "execution_count": 10,
      "outputs": [
        {
          "output_type": "stream",
          "name": "stdout",
          "text": [
            "Digite o nome: Everton\n",
            "Digite o salário bruto: 2000\n",
            "Deseja continuar? (s/n): n\n",
            "Nome do Funcioário\tSalário Bruto\tDesconto-Inss\tDesconto-IRPF\tSalário Liquido2 \n",
            "Everton \t\t R$2000.0 \t R$160.0 \t R$200.0 \t R$1640.0\n"
          ]
        }
      ]
    }
  ]
}